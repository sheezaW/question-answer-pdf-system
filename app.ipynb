{
  "nbformat": 4,
  "nbformat_minor": 0,
  "metadata": {
    "colab": {
      "provenance": []
    },
    "kernelspec": {
      "name": "python3",
      "display_name": "Python 3"
    },
    "language_info": {
      "name": "python"
    }
  },
  "cells": [
    {
      "cell_type": "code",
      "source": [
        "pip install pypdf\n",
        "pip install PyMuPDF\n",
        "pip install chromadb\n",
        "pip install langchain\n",
        "pip install openai\n",
        "pip install tiktoken\n",
        "pip install faiss-gpu"
      ],
      "metadata": {
        "id": "b2VmKxExMnF7"
      },
      "execution_count": null,
      "outputs": []
    },
    {
      "cell_type": "code",
      "execution_count": null,
      "metadata": {
        "id": "waaky1hyMgoK"
      },
      "outputs": [],
      "source": [
        "from langchain.chains.router import MultiRetrievalQAChain\n",
        "from langchain.llms import OpenAI\n",
        "from langchain.embeddings import OpenAIEmbeddings\n",
        "from langchain.document_loaders import TextLoader\n",
        "from langchain.vectorstores import FAISS\n",
        "\n",
        "# List of file paths to your documents\n",
        "document_paths = [\"/content/30(1-2)+9-17.txt\", \"/content/Kronenfeld-Structuralism-1979.txt\"]\n",
        "\n",
        "# Initialize an empty list to store document objects\n",
        "documents = []\n",
        "\n",
        "# Load and split each document\n",
        "for document_path in document_paths:\n",
        "    document = TextLoader(document_path).load_and_split()\n",
        "    documents.append(document)\n",
        "\n",
        "# Create retrievers for each document\n",
        "retrievers = []\n",
        "\n",
        "for document in documents:\n",
        "    retriever = FAISS.from_documents(document, OpenAIEmbeddings()).as_retriever()\n",
        "    retrievers.append(retriever)\n",
        "\n",
        "# Define the retriever information\n",
        "retriever_infos = []\n",
        "\n",
        "for i, retriever in enumerate(retrievers):\n",
        "    retriever_info = {\n",
        "        \"name\": f\"document_{i}\",\n",
        "        \"description\": f\"Good for answering questions about document {i}\",\n",
        "        \"retriever\": retriever\n",
        "    }\n",
        "    retriever_infos.append(retriever_info)\n",
        "\n",
        "# Create the MultiRetrievalQAChain\n",
        "chain = MultiRetrievalQAChain.from_retrievers(OpenAI(), retriever_infos)\n",
        "\n",
        "# Run the question-answering system\n",
        "question = \"What is structuralism?\"\n",
        "answer = chain.run(question)\n",
        "print(answer)\n"
      ]
    }
  ]
}